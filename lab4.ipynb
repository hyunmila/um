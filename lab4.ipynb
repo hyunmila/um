{
  "nbformat": 4,
  "nbformat_minor": 0,
  "metadata": {
    "colab": {
      "provenance": [],
      "gpuType": "T4",
      "mount_file_id": "1sjaOU0p9Pyb3Yb1Uq82ALCGoUyLZ_f3Y",
      "authorship_tag": "ABX9TyMjh5KXTU58Trqs32q8YX05",
      "include_colab_link": true
    },
    "kernelspec": {
      "name": "python3",
      "display_name": "Python 3"
    },
    "language_info": {
      "name": "python"
    },
    "accelerator": "GPU"
  },
  "cells": [
    {
      "cell_type": "markdown",
      "metadata": {
        "id": "view-in-github",
        "colab_type": "text"
      },
      "source": [
        "<a href=\"https://colab.research.google.com/github/hyunmila/um/blob/main/lab4.ipynb\" target=\"_parent\"><img src=\"https://colab.research.google.com/assets/colab-badge.svg\" alt=\"Open In Colab\"/></a>"
      ]
    },
    {
      "cell_type": "markdown",
      "source": [],
      "metadata": {
        "id": "ts6zN6fA-bTI"
      }
    },
    {
      "cell_type": "code",
      "execution_count": 13,
      "metadata": {
        "id": "EE4q6YeH-XUn"
      },
      "outputs": [],
      "source": [
        "import os\n",
        "import keras\n",
        "import numpy as np\n",
        "import tensorflow as tf\n",
        "import matplotlib.pyplot as plt\n",
        "import pandas as pd"
      ]
    },
    {
      "cell_type": "code",
      "source": [
        "device_name = tf.test.gpu_device_name()\n",
        "if device_name != '/device:GPU:0':\n",
        "  raise SystemError('GPU device not found')\n",
        "print('Found GPU at: {}'.format(device_name))"
      ],
      "metadata": {
        "colab": {
          "base_uri": "https://localhost:8080/"
        },
        "id": "puXlouaqPaH6",
        "outputId": "21c32628-1416-4f29-b8db-374a09a45f5e"
      },
      "execution_count": 14,
      "outputs": [
        {
          "output_type": "stream",
          "name": "stdout",
          "text": [
            "Found GPU at: /device:GPU:0\n"
          ]
        }
      ]
    },
    {
      "cell_type": "code",
      "source": [
        "\n",
        "# train_dir = str(main_path)+'/dogs_and_cats_small/train'\n",
        "# val_dir = str(main_path)+'/dogs_and_cats_small/validate'\n",
        "\n",
        "train_dir = 'dogs_and_cats_small/train'\n",
        "val_dir = 'dogs_and_cats_small/validate'"
      ],
      "metadata": {
        "id": "vEyihlaKAlrR"
      },
      "execution_count": 25,
      "outputs": []
    },
    {
      "cell_type": "code",
      "source": [
        "train_datagen = keras.preprocessing.image.ImageDataGenerator(\n",
        "        rescale=1./255,\n",
        "        rotation_range=40,\n",
        "        width_shift_range=0.2,\n",
        "        height_shift_range=0.2,\n",
        "        shear_range=0.2,\n",
        "        zoom_range=0.2,\n",
        "        horizontal_flip=True,\n",
        "        fill_mode='nearest')\n",
        "\n",
        "test_datagen = keras.preprocessing.image.ImageDataGenerator(rescale=1./255)\n",
        "\n",
        "train_generator = train_datagen.flow_from_directory(\n",
        "        train_dir,\n",
        "        target_size=(150, 150),\n",
        "        batch_size=20,\n",
        "        class_mode='binary')\n",
        "\n",
        "validation_generator = test_datagen.flow_from_directory(\n",
        "        val_dir,\n",
        "        target_size=(150, 150),\n",
        "        batch_size=20,\n",
        "        class_mode='binary')\n"
      ],
      "metadata": {
        "colab": {
          "base_uri": "https://localhost:8080/"
        },
        "id": "aKzd6DtPAmzC",
        "outputId": "341907d6-6633-4aec-c669-f55d143dafa8"
      },
      "execution_count": 16,
      "outputs": [
        {
          "output_type": "stream",
          "name": "stdout",
          "text": [
            "Found 2000 images belonging to 2 classes.\n",
            "Found 2000 images belonging to 2 classes.\n"
          ]
        }
      ]
    },
    {
      "cell_type": "code",
      "source": [
        "def create_model():\n",
        "    model = keras.models.Sequential()\n",
        "    # model_2.add(data_augmentation)\n",
        "    # model_2.add(keras.layers.Rescaling(scale=1./255, input_shape=(150,150, 3)))\n",
        "    model.add(keras.layers.Conv2D(32, (3, 3), activation='relu', input_shape=(150,150, 3)))\n",
        "    model.add(keras.layers.MaxPooling2D((2,2)))\n",
        "    model.add(keras.layers.Conv2D(64, (3,3), activation='relu'))\n",
        "    model.add(keras.layers.MaxPooling2D((2,2)))\n",
        "    model.add(keras.layers.Conv2D(128, (3,3), activation='relu'))\n",
        "    model.add(keras.layers.MaxPooling2D((2,2)))\n",
        "    model.add(keras.layers.Conv2D(128, (3,3), activation='relu'))\n",
        "    model.add(keras.layers.MaxPooling2D((2,2)))\n",
        "    model.add(keras.layers.Flatten())\n",
        "    model.add(keras.layers.Dense(512, activation='relu'))\n",
        "    model.add(keras.layers.Dense(1, activation='sigmoid'))\n",
        "    model.compile(optimizer=keras.optimizers.RMSprop(learning_rate=1e-4), loss='binary_crossentropy', metrics=['accuracy'])\n",
        "\n",
        "    return model\n",
        "\n",
        "model_1 = create_model()\n",
        "# model_1.summary()"
      ],
      "metadata": {
        "id": "EiLkDEG2AowI"
      },
      "execution_count": 17,
      "outputs": []
    },
    {
      "cell_type": "code",
      "source": [
        "epochs = 100\n",
        "\n",
        "history = model_1.fit(train_generator, epochs=epochs, validation_data=validation_generator)\n",
        "\n"
      ],
      "metadata": {
        "colab": {
          "base_uri": "https://localhost:8080/"
        },
        "id": "j4zWvZIAArpO",
        "outputId": "1e713c5c-424d-4270-b58f-3baa1270ca5e"
      },
      "execution_count": 18,
      "outputs": [
        {
          "output_type": "stream",
          "name": "stdout",
          "text": [
            "Epoch 1/100\n",
            "100/100 [==============================] - 227s 2s/step - loss: 0.6931 - accuracy: 0.5155 - val_loss: 0.6879 - val_accuracy: 0.5910\n",
            "Epoch 2/100\n",
            "100/100 [==============================] - 28s 276ms/step - loss: 0.6872 - accuracy: 0.5440 - val_loss: 0.6776 - val_accuracy: 0.5360\n",
            "Epoch 3/100\n",
            "100/100 [==============================] - 29s 296ms/step - loss: 0.6821 - accuracy: 0.5595 - val_loss: 0.6667 - val_accuracy: 0.5840\n",
            "Epoch 4/100\n",
            "100/100 [==============================] - 28s 284ms/step - loss: 0.6668 - accuracy: 0.5950 - val_loss: 0.6559 - val_accuracy: 0.6175\n",
            "Epoch 5/100\n",
            "100/100 [==============================] - 28s 285ms/step - loss: 0.6628 - accuracy: 0.5935 - val_loss: 0.6466 - val_accuracy: 0.6210\n",
            "Epoch 6/100\n",
            "100/100 [==============================] - 28s 281ms/step - loss: 0.6541 - accuracy: 0.6060 - val_loss: 0.6458 - val_accuracy: 0.6000\n",
            "Epoch 7/100\n",
            "100/100 [==============================] - 28s 277ms/step - loss: 0.6397 - accuracy: 0.6315 - val_loss: 0.6212 - val_accuracy: 0.6425\n",
            "Epoch 8/100\n",
            "100/100 [==============================] - 28s 277ms/step - loss: 0.6320 - accuracy: 0.6445 - val_loss: 0.5916 - val_accuracy: 0.6950\n",
            "Epoch 9/100\n",
            "100/100 [==============================] - 28s 280ms/step - loss: 0.6293 - accuracy: 0.6405 - val_loss: 0.6006 - val_accuracy: 0.6790\n",
            "Epoch 10/100\n",
            "100/100 [==============================] - 29s 286ms/step - loss: 0.6102 - accuracy: 0.6670 - val_loss: 0.5696 - val_accuracy: 0.7030\n",
            "Epoch 11/100\n",
            "100/100 [==============================] - 31s 307ms/step - loss: 0.6069 - accuracy: 0.6535 - val_loss: 0.5931 - val_accuracy: 0.6715\n",
            "Epoch 12/100\n",
            "100/100 [==============================] - 28s 278ms/step - loss: 0.6026 - accuracy: 0.6535 - val_loss: 0.5650 - val_accuracy: 0.7085\n",
            "Epoch 13/100\n",
            "100/100 [==============================] - 28s 278ms/step - loss: 0.5975 - accuracy: 0.6745 - val_loss: 0.6074 - val_accuracy: 0.6695\n",
            "Epoch 14/100\n",
            "100/100 [==============================] - 28s 279ms/step - loss: 0.5799 - accuracy: 0.6820 - val_loss: 0.5743 - val_accuracy: 0.6820\n",
            "Epoch 15/100\n",
            "100/100 [==============================] - 28s 282ms/step - loss: 0.5904 - accuracy: 0.6760 - val_loss: 0.5652 - val_accuracy: 0.6985\n",
            "Epoch 16/100\n",
            "100/100 [==============================] - 29s 286ms/step - loss: 0.5753 - accuracy: 0.6945 - val_loss: 0.5460 - val_accuracy: 0.7370\n",
            "Epoch 17/100\n",
            "100/100 [==============================] - 31s 307ms/step - loss: 0.5704 - accuracy: 0.6970 - val_loss: 0.6043 - val_accuracy: 0.6835\n",
            "Epoch 18/100\n",
            "100/100 [==============================] - 28s 279ms/step - loss: 0.5719 - accuracy: 0.6925 - val_loss: 0.5809 - val_accuracy: 0.7035\n",
            "Epoch 19/100\n",
            "100/100 [==============================] - 28s 277ms/step - loss: 0.5716 - accuracy: 0.7005 - val_loss: 0.5257 - val_accuracy: 0.7445\n",
            "Epoch 20/100\n",
            "100/100 [==============================] - 28s 280ms/step - loss: 0.5566 - accuracy: 0.7080 - val_loss: 0.5261 - val_accuracy: 0.7375\n",
            "Epoch 21/100\n",
            "100/100 [==============================] - 28s 282ms/step - loss: 0.5665 - accuracy: 0.7040 - val_loss: 0.5800 - val_accuracy: 0.7005\n",
            "Epoch 22/100\n",
            "100/100 [==============================] - 29s 287ms/step - loss: 0.5510 - accuracy: 0.7080 - val_loss: 0.5832 - val_accuracy: 0.6890\n",
            "Epoch 23/100\n",
            "100/100 [==============================] - 28s 277ms/step - loss: 0.5646 - accuracy: 0.7010 - val_loss: 0.5751 - val_accuracy: 0.6990\n",
            "Epoch 24/100\n",
            "100/100 [==============================] - 28s 277ms/step - loss: 0.5454 - accuracy: 0.7210 - val_loss: 0.5048 - val_accuracy: 0.7605\n",
            "Epoch 25/100\n",
            "100/100 [==============================] - 28s 278ms/step - loss: 0.5403 - accuracy: 0.7170 - val_loss: 0.5386 - val_accuracy: 0.7430\n",
            "Epoch 26/100\n",
            "100/100 [==============================] - 28s 285ms/step - loss: 0.5440 - accuracy: 0.7300 - val_loss: 0.5162 - val_accuracy: 0.7560\n",
            "Epoch 27/100\n",
            "100/100 [==============================] - 29s 292ms/step - loss: 0.5391 - accuracy: 0.7260 - val_loss: 0.5920 - val_accuracy: 0.6985\n",
            "Epoch 28/100\n",
            "100/100 [==============================] - 28s 284ms/step - loss: 0.5380 - accuracy: 0.7270 - val_loss: 0.5151 - val_accuracy: 0.7425\n",
            "Epoch 29/100\n",
            "100/100 [==============================] - 28s 280ms/step - loss: 0.5313 - accuracy: 0.7285 - val_loss: 0.5107 - val_accuracy: 0.7520\n",
            "Epoch 30/100\n",
            "100/100 [==============================] - 27s 275ms/step - loss: 0.5271 - accuracy: 0.7330 - val_loss: 0.4863 - val_accuracy: 0.7710\n",
            "Epoch 31/100\n",
            "100/100 [==============================] - 28s 276ms/step - loss: 0.5297 - accuracy: 0.7340 - val_loss: 0.5033 - val_accuracy: 0.7525\n",
            "Epoch 32/100\n",
            "100/100 [==============================] - 28s 281ms/step - loss: 0.5316 - accuracy: 0.7325 - val_loss: 0.4909 - val_accuracy: 0.7595\n",
            "Epoch 33/100\n",
            "100/100 [==============================] - 28s 285ms/step - loss: 0.5242 - accuracy: 0.7315 - val_loss: 0.4759 - val_accuracy: 0.7790\n",
            "Epoch 34/100\n",
            "100/100 [==============================] - 30s 303ms/step - loss: 0.5122 - accuracy: 0.7430 - val_loss: 0.4824 - val_accuracy: 0.7700\n",
            "Epoch 35/100\n",
            "100/100 [==============================] - 30s 298ms/step - loss: 0.5188 - accuracy: 0.7450 - val_loss: 0.4996 - val_accuracy: 0.7540\n",
            "Epoch 36/100\n",
            "100/100 [==============================] - 28s 286ms/step - loss: 0.5065 - accuracy: 0.7440 - val_loss: 0.5074 - val_accuracy: 0.7485\n",
            "Epoch 37/100\n",
            "100/100 [==============================] - 29s 286ms/step - loss: 0.5043 - accuracy: 0.7505 - val_loss: 0.4666 - val_accuracy: 0.7870\n",
            "Epoch 38/100\n",
            "100/100 [==============================] - 30s 301ms/step - loss: 0.5045 - accuracy: 0.7590 - val_loss: 0.5408 - val_accuracy: 0.7250\n",
            "Epoch 39/100\n",
            "100/100 [==============================] - 28s 276ms/step - loss: 0.5052 - accuracy: 0.7510 - val_loss: 0.4741 - val_accuracy: 0.7740\n",
            "Epoch 40/100\n",
            "100/100 [==============================] - 28s 277ms/step - loss: 0.5083 - accuracy: 0.7420 - val_loss: 0.4695 - val_accuracy: 0.7815\n",
            "Epoch 41/100\n",
            "100/100 [==============================] - 29s 286ms/step - loss: 0.4880 - accuracy: 0.7630 - val_loss: 0.4933 - val_accuracy: 0.7685\n",
            "Epoch 42/100\n",
            "100/100 [==============================] - 30s 306ms/step - loss: 0.4929 - accuracy: 0.7810 - val_loss: 0.4611 - val_accuracy: 0.7825\n",
            "Epoch 43/100\n",
            "100/100 [==============================] - 27s 272ms/step - loss: 0.4931 - accuracy: 0.7510 - val_loss: 0.4808 - val_accuracy: 0.7735\n",
            "Epoch 44/100\n",
            "100/100 [==============================] - 27s 272ms/step - loss: 0.4836 - accuracy: 0.7675 - val_loss: 0.4498 - val_accuracy: 0.7930\n",
            "Epoch 45/100\n",
            "100/100 [==============================] - 29s 292ms/step - loss: 0.4867 - accuracy: 0.7565 - val_loss: 0.4620 - val_accuracy: 0.7805\n",
            "Epoch 46/100\n",
            "100/100 [==============================] - 28s 278ms/step - loss: 0.4681 - accuracy: 0.7790 - val_loss: 0.5455 - val_accuracy: 0.7340\n",
            "Epoch 47/100\n",
            "100/100 [==============================] - 28s 279ms/step - loss: 0.4893 - accuracy: 0.7685 - val_loss: 0.5290 - val_accuracy: 0.7430\n",
            "Epoch 48/100\n",
            "100/100 [==============================] - 30s 306ms/step - loss: 0.4733 - accuracy: 0.7755 - val_loss: 0.4481 - val_accuracy: 0.7955\n",
            "Epoch 49/100\n",
            "100/100 [==============================] - 29s 293ms/step - loss: 0.4798 - accuracy: 0.7500 - val_loss: 0.4667 - val_accuracy: 0.7790\n",
            "Epoch 50/100\n",
            "100/100 [==============================] - 27s 275ms/step - loss: 0.4787 - accuracy: 0.7795 - val_loss: 0.4517 - val_accuracy: 0.7960\n",
            "Epoch 51/100\n",
            "100/100 [==============================] - 27s 274ms/step - loss: 0.4790 - accuracy: 0.7690 - val_loss: 0.4706 - val_accuracy: 0.7760\n",
            "Epoch 52/100\n",
            "100/100 [==============================] - 28s 281ms/step - loss: 0.4699 - accuracy: 0.7755 - val_loss: 0.4425 - val_accuracy: 0.7995\n",
            "Epoch 53/100\n",
            "100/100 [==============================] - 28s 281ms/step - loss: 0.4737 - accuracy: 0.7680 - val_loss: 0.4489 - val_accuracy: 0.7915\n",
            "Epoch 54/100\n",
            "100/100 [==============================] - 30s 303ms/step - loss: 0.4737 - accuracy: 0.7690 - val_loss: 0.4507 - val_accuracy: 0.7975\n",
            "Epoch 55/100\n",
            "100/100 [==============================] - 28s 278ms/step - loss: 0.4807 - accuracy: 0.7645 - val_loss: 0.4459 - val_accuracy: 0.7960\n",
            "Epoch 56/100\n",
            "100/100 [==============================] - 27s 274ms/step - loss: 0.4681 - accuracy: 0.7755 - val_loss: 0.4279 - val_accuracy: 0.8030\n",
            "Epoch 57/100\n",
            "100/100 [==============================] - 27s 275ms/step - loss: 0.4769 - accuracy: 0.7690 - val_loss: 0.4433 - val_accuracy: 0.8005\n",
            "Epoch 58/100\n",
            "100/100 [==============================] - 28s 284ms/step - loss: 0.4658 - accuracy: 0.7785 - val_loss: 0.5806 - val_accuracy: 0.7185\n",
            "Epoch 59/100\n",
            "100/100 [==============================] - 28s 285ms/step - loss: 0.4625 - accuracy: 0.7860 - val_loss: 0.4564 - val_accuracy: 0.7895\n",
            "Epoch 60/100\n",
            "100/100 [==============================] - 27s 272ms/step - loss: 0.4525 - accuracy: 0.7805 - val_loss: 0.4640 - val_accuracy: 0.7850\n",
            "Epoch 61/100\n",
            "100/100 [==============================] - 27s 273ms/step - loss: 0.4527 - accuracy: 0.7945 - val_loss: 0.4531 - val_accuracy: 0.7905\n",
            "Epoch 62/100\n",
            "100/100 [==============================] - 27s 272ms/step - loss: 0.4457 - accuracy: 0.7950 - val_loss: 0.4535 - val_accuracy: 0.7955\n",
            "Epoch 63/100\n",
            "100/100 [==============================] - 27s 273ms/step - loss: 0.4363 - accuracy: 0.7975 - val_loss: 0.4718 - val_accuracy: 0.7820\n",
            "Epoch 64/100\n",
            "100/100 [==============================] - 28s 277ms/step - loss: 0.4472 - accuracy: 0.7790 - val_loss: 0.4528 - val_accuracy: 0.7920\n",
            "Epoch 65/100\n",
            "100/100 [==============================] - 28s 279ms/step - loss: 0.4428 - accuracy: 0.7970 - val_loss: 0.4631 - val_accuracy: 0.7865\n",
            "Epoch 66/100\n",
            "100/100 [==============================] - 28s 280ms/step - loss: 0.4440 - accuracy: 0.7860 - val_loss: 0.4960 - val_accuracy: 0.7735\n",
            "Epoch 67/100\n",
            "100/100 [==============================] - 28s 278ms/step - loss: 0.4474 - accuracy: 0.7860 - val_loss: 0.6556 - val_accuracy: 0.6895\n",
            "Epoch 68/100\n",
            "100/100 [==============================] - 28s 279ms/step - loss: 0.4401 - accuracy: 0.7925 - val_loss: 0.4622 - val_accuracy: 0.7875\n",
            "Epoch 69/100\n",
            "100/100 [==============================] - 27s 274ms/step - loss: 0.4467 - accuracy: 0.7885 - val_loss: 0.5142 - val_accuracy: 0.7645\n",
            "Epoch 70/100\n",
            "100/100 [==============================] - 29s 292ms/step - loss: 0.4455 - accuracy: 0.7855 - val_loss: 0.4516 - val_accuracy: 0.7935\n",
            "Epoch 71/100\n",
            "100/100 [==============================] - 31s 308ms/step - loss: 0.4457 - accuracy: 0.7865 - val_loss: 0.4404 - val_accuracy: 0.8045\n",
            "Epoch 72/100\n",
            "100/100 [==============================] - 28s 284ms/step - loss: 0.4322 - accuracy: 0.7910 - val_loss: 0.5131 - val_accuracy: 0.7730\n",
            "Epoch 73/100\n",
            "100/100 [==============================] - 28s 277ms/step - loss: 0.4341 - accuracy: 0.7920 - val_loss: 0.4288 - val_accuracy: 0.8095\n",
            "Epoch 74/100\n",
            "100/100 [==============================] - 28s 279ms/step - loss: 0.4355 - accuracy: 0.8025 - val_loss: 0.4367 - val_accuracy: 0.8030\n",
            "Epoch 75/100\n",
            "100/100 [==============================] - 28s 282ms/step - loss: 0.4298 - accuracy: 0.7930 - val_loss: 0.5228 - val_accuracy: 0.7555\n",
            "Epoch 76/100\n",
            "100/100 [==============================] - 28s 284ms/step - loss: 0.4315 - accuracy: 0.8075 - val_loss: 0.4588 - val_accuracy: 0.7935\n",
            "Epoch 77/100\n",
            "100/100 [==============================] - 30s 300ms/step - loss: 0.4270 - accuracy: 0.7985 - val_loss: 0.4175 - val_accuracy: 0.8155\n",
            "Epoch 78/100\n",
            "100/100 [==============================] - 28s 276ms/step - loss: 0.4328 - accuracy: 0.7965 - val_loss: 0.4454 - val_accuracy: 0.8025\n",
            "Epoch 79/100\n",
            "100/100 [==============================] - 28s 281ms/step - loss: 0.4073 - accuracy: 0.8030 - val_loss: 0.4445 - val_accuracy: 0.8010\n",
            "Epoch 80/100\n",
            "100/100 [==============================] - 28s 282ms/step - loss: 0.4248 - accuracy: 0.8065 - val_loss: 0.4179 - val_accuracy: 0.8130\n",
            "Epoch 81/100\n",
            "100/100 [==============================] - 29s 286ms/step - loss: 0.4204 - accuracy: 0.8060 - val_loss: 0.4403 - val_accuracy: 0.7900\n",
            "Epoch 82/100\n",
            "100/100 [==============================] - 28s 277ms/step - loss: 0.4144 - accuracy: 0.8040 - val_loss: 0.4185 - val_accuracy: 0.8080\n",
            "Epoch 83/100\n",
            "100/100 [==============================] - 28s 278ms/step - loss: 0.4175 - accuracy: 0.8030 - val_loss: 0.4149 - val_accuracy: 0.8180\n",
            "Epoch 84/100\n",
            "100/100 [==============================] - 28s 280ms/step - loss: 0.4200 - accuracy: 0.8040 - val_loss: 0.4281 - val_accuracy: 0.8030\n",
            "Epoch 85/100\n",
            "100/100 [==============================] - 28s 280ms/step - loss: 0.4106 - accuracy: 0.8030 - val_loss: 0.4545 - val_accuracy: 0.7920\n",
            "Epoch 86/100\n",
            "100/100 [==============================] - 28s 285ms/step - loss: 0.4169 - accuracy: 0.8050 - val_loss: 0.4177 - val_accuracy: 0.8140\n",
            "Epoch 87/100\n",
            "100/100 [==============================] - 29s 289ms/step - loss: 0.4102 - accuracy: 0.8080 - val_loss: 0.4341 - val_accuracy: 0.7980\n",
            "Epoch 88/100\n",
            "100/100 [==============================] - 28s 283ms/step - loss: 0.4017 - accuracy: 0.8055 - val_loss: 0.4587 - val_accuracy: 0.7820\n",
            "Epoch 89/100\n",
            "100/100 [==============================] - 28s 284ms/step - loss: 0.4013 - accuracy: 0.8145 - val_loss: 0.4047 - val_accuracy: 0.8265\n",
            "Epoch 90/100\n",
            "100/100 [==============================] - 28s 279ms/step - loss: 0.4108 - accuracy: 0.8175 - val_loss: 0.3957 - val_accuracy: 0.8190\n",
            "Epoch 91/100\n",
            "100/100 [==============================] - 28s 282ms/step - loss: 0.4005 - accuracy: 0.8190 - val_loss: 0.5306 - val_accuracy: 0.7470\n",
            "Epoch 92/100\n",
            "100/100 [==============================] - 30s 303ms/step - loss: 0.3923 - accuracy: 0.8235 - val_loss: 0.4516 - val_accuracy: 0.8115\n",
            "Epoch 93/100\n",
            "100/100 [==============================] - 27s 275ms/step - loss: 0.4015 - accuracy: 0.8175 - val_loss: 0.4161 - val_accuracy: 0.8125\n",
            "Epoch 94/100\n",
            "100/100 [==============================] - 28s 277ms/step - loss: 0.3946 - accuracy: 0.8165 - val_loss: 0.5910 - val_accuracy: 0.7405\n",
            "Epoch 95/100\n",
            "100/100 [==============================] - 28s 279ms/step - loss: 0.4063 - accuracy: 0.8080 - val_loss: 0.4074 - val_accuracy: 0.8205\n",
            "Epoch 96/100\n",
            "100/100 [==============================] - 28s 281ms/step - loss: 0.3902 - accuracy: 0.8225 - val_loss: 0.3942 - val_accuracy: 0.8280\n",
            "Epoch 97/100\n",
            "100/100 [==============================] - 28s 283ms/step - loss: 0.4041 - accuracy: 0.8145 - val_loss: 0.3917 - val_accuracy: 0.8235\n",
            "Epoch 98/100\n",
            "100/100 [==============================] - 28s 282ms/step - loss: 0.4014 - accuracy: 0.8120 - val_loss: 0.5016 - val_accuracy: 0.7745\n",
            "Epoch 99/100\n",
            "100/100 [==============================] - 28s 278ms/step - loss: 0.3851 - accuracy: 0.8305 - val_loss: 0.3856 - val_accuracy: 0.8420\n",
            "Epoch 100/100\n",
            "100/100 [==============================] - 28s 278ms/step - loss: 0.3818 - accuracy: 0.8255 - val_loss: 0.3800 - val_accuracy: 0.8365\n"
          ]
        }
      ]
    },
    {
      "cell_type": "code",
      "source": [
        "history_df = pd.DataFrame(history.history)\n",
        "with open(\"history_1.json\", mode='w') as f:\n",
        "    history_df.to_json(f)"
      ],
      "metadata": {
        "id": "-aJz0xerQj8R"
      },
      "execution_count": 19,
      "outputs": []
    },
    {
      "cell_type": "code",
      "source": [
        "data = pd.read_json(\"history_1.json\")"
      ],
      "metadata": {
        "id": "z9il87NAA1Tu"
      },
      "execution_count": 20,
      "outputs": []
    },
    {
      "cell_type": "code",
      "source": [
        "plt.plot(data['accuracy'], label= 'Training accuracy')\n",
        "plt.plot(data['val_accuracy'], label = 'Validation accuracy')\n",
        "\n",
        "plt.title('Training and Validation Accuracy')\n",
        "plt.xlabel('Epochs')\n",
        "plt.ylabel('Accuracy')\n",
        "# plt.grid()\n",
        "# plt.xticks(np.arange(0, int(epochs+1)))\n",
        "plt.legend(loc='best')\n",
        "plt.show()"
      ],
      "metadata": {
        "id": "lNEtxaN8A5kv",
        "colab": {
          "base_uri": "https://localhost:8080/",
          "height": 472
        },
        "outputId": "354592fe-c464-4eb0-ad41-f9509f196617"
      },
      "execution_count": 23,
      "outputs": [
        {
          "output_type": "display_data",
          "data": {
            "text/plain": [
              "<Figure size 640x480 with 1 Axes>"
            ],
            "image/png": "[encoded data removed]"
          },
          "metadata": {}
        }
      ]
    }
  ]
}