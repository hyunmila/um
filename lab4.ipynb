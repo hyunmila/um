{
  "nbformat": 4,
  "nbformat_minor": 0,
  "metadata": {
    "colab": {
      "provenance": [],
      "toc_visible": true,
      "authorship_tag": "ABX9TyOYt9y1Z52US66KfDYjPhXL",
      "include_colab_link": true
    },
    "kernelspec": {
      "name": "python3",
      "display_name": "Python 3"
    },
    "language_info": {
      "name": "python"
    }
  },
  "cells": [
    {
      "cell_type": "markdown",
      "metadata": {
        "id": "view-in-github",
        "colab_type": "text"
      },
      "source": [
        "<a href=\"https://colab.research.google.com/github/hyunmila/um/blob/main/lab4.ipynb\" target=\"_parent\"><img src=\"https://colab.research.google.com/assets/colab-badge.svg\" alt=\"Open In Colab\"/></a>"
      ]
    },
    {
      "cell_type": "markdown",
      "source": [],
      "metadata": {
        "id": "ts6zN6fA-bTI"
      }
    },
    {
      "cell_type": "code",
      "execution_count": null,
      "metadata": {
        "id": "EE4q6YeH-XUn"
      },
      "outputs": [],
      "source": [
        "import os\n",
        "import keras\n",
        "import numpy as np\n",
        "import tensorflow as tf\n",
        "import matplotlib.pyplot as plt\n",
        "import pandas as pd"
      ]
    },
    {
      "cell_type": "code",
      "source": [
        "train_dir = 'dogs_and_cats_small/train'\n",
        "val_dir = 'dogs_and_cats_small/validate'"
      ],
      "metadata": {
        "id": "vEyihlaKAlrR"
      },
      "execution_count": null,
      "outputs": []
    },
    {
      "cell_type": "code",
      "source": [
        "train_datagen = keras.preprocessing.image.ImageDataGenerator(\n",
        "        rescale=1./255,\n",
        "        rotation_range=40,\n",
        "        width_shift_range=0.2,\n",
        "        height_shift_range=0.2,\n",
        "        shear_range=0.2,\n",
        "        zoom_range=0.2,\n",
        "        horizontal_flip=True,\n",
        "        fill_mode='nearest')\n",
        "\n",
        "test_datagen = keras.preprocessing.image.ImageDataGenerator(rescale=1./255)\n",
        "\n",
        "train_generator = train_datagen.flow_from_directory(\n",
        "        train_dir,\n",
        "        target_size=(150, 150),\n",
        "        batch_size=20,\n",
        "        class_mode='binary')\n",
        "\n",
        "validation_generator = test_datagen.flow_from_directory(\n",
        "        val_dir,\n",
        "        target_size=(150, 150),\n",
        "        batch_size=20,\n",
        "        class_mode='binary')\n"
      ],
      "metadata": {
        "id": "aKzd6DtPAmzC"
      },
      "execution_count": null,
      "outputs": []
    },
    {
      "cell_type": "code",
      "source": [
        "def create_model():\n",
        "    model = keras.models.Sequential()\n",
        "    # model_2.add(data_augmentation)\n",
        "    # model_2.add(keras.layers.Rescaling(scale=1./255, input_shape=(150,150, 3)))\n",
        "    model.add(keras.layers.Conv2D(32, (3, 3), activation='relu', input_shape=(150,150, 3)))\n",
        "    model.add(keras.layers.MaxPooling2D((2,2)))\n",
        "    model.add(keras.layers.Conv2D(64, (3,3), activation='relu'))\n",
        "    model.add(keras.layers.MaxPooling2D((2,2)))\n",
        "    model.add(keras.layers.Conv2D(128, (3,3), activation='relu'))\n",
        "    model.add(keras.layers.MaxPooling2D((2,2)))\n",
        "    model.add(keras.layers.Conv2D(128, (3,3), activation='relu'))\n",
        "    model.add(keras.layers.MaxPooling2D((2,2)))\n",
        "    model.add(keras.layers.Flatten())\n",
        "    model.add(keras.layers.Dense(512, activation='relu'))\n",
        "    model.add(keras.layers.Dense(1, activation='sigmoid'))\n",
        "    model.compile(optimizer=keras.optimizers.RMSprop(learning_rate=1e-4), loss='binary_crossentropy', metrics=['accuracy'])\n",
        "\n",
        "    return model\n",
        "\n",
        "model_1 = create_model()\n",
        "# model_1.summary()"
      ],
      "metadata": {
        "id": "EiLkDEG2AowI"
      },
      "execution_count": null,
      "outputs": []
    },
    {
      "cell_type": "code",
      "source": [
        "epochs = 2\n",
        "\n",
        "history = model_1.fit(train_generator, epochs=epochs, validation_data=validation_generator)\n",
        "history_df = pd.DataFrame(history.history)\n",
        "with open(\"history.json\", mode='w') as f:\n",
        "    history_df.to_json(f)\n"
      ],
      "metadata": {
        "id": "j4zWvZIAArpO"
      },
      "execution_count": null,
      "outputs": []
    },
    {
      "cell_type": "code",
      "source": [
        "data = pd.read_json(\"history.json\")"
      ],
      "metadata": {
        "id": "z9il87NAA1Tu"
      },
      "execution_count": null,
      "outputs": []
    },
    {
      "cell_type": "code",
      "source": [
        "plt.plot(data['accuracy'], label= 'Training accuracy')\n",
        "plt.plot(data['val_accuracy'], label = 'Validation accuracy')\n",
        "\n",
        "plt.title('Training and Validation Accuracy')\n",
        "plt.xlabel('Epochs')\n",
        "plt.ylabel('Accuracy')\n",
        "plt.grid()\n",
        "plt.xticks(np.arange(0, int(epochs+1)))\n",
        "plt.legend(loc='best')\n",
        "plt.show()"
      ],
      "metadata": {
        "id": "lNEtxaN8A5kv"
      },
      "execution_count": null,
      "outputs": []
    }
  ]
}